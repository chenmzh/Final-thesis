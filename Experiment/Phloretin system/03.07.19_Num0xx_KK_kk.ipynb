{
 "cells": [
  {
   "cell_type": "code",
   "execution_count": 29,
   "metadata": {},
   "outputs": [],
   "source": [
    "import matplotlib.pyplot as plt\n",
    "import numpy as np\n",
    "import cytoflow as flow\n",
    "from scipy import stats\n",
    "#%matplotlib inline"
   ]
  },
  {
   "cell_type": "code",
   "execution_count": 30,
   "metadata": {},
   "outputs": [],
   "source": [
    "ExperimentIndex = 'Run1_Numxx_'\n",
    "BlueChannel = 'Pacific Blue-A'#'BV 421-A'\n",
    "GreenChannel = 'FITC-A'\n",
    "RedChannel = 'PE-Texas Red-A'\n",
    "iRedChannel = 'APC-Cy7-A'\n",
    "\n",
    "FolderWithFlowFiles = 'C:/Users/User/Dropbox (MIT)/MIT/MIT 2019 spring/Project/030919_MingPhloretin/FACS/'\n",
    "#FolderWithFlowFiles = 'Z:/home/chenmzh/incoming/030919_MingPhloretin/FACS/'\n",
    "\n",
    "BeadName            = FolderWithFlowFiles+\"Colors_Beads_037.fcs\"\n",
    "BlankControlName    = FolderWithFlowFiles+\"Specimen_061_B7_B07_017.fcs\"\n",
    "MultiControl        = FolderWithFlowFiles+\"Specimen_067_A7_A07_018.fcs\"\n",
    "BlueControlName     = FolderWithFlowFiles+\"Specimen_068_A8_A08_019.fcs\"\n",
    "YellowControlName   = FolderWithFlowFiles+\"Specimen_069_A9_A09_020.fcs\"\n",
    "#RedControlName      = FolderWithFlowFiles+\"Specimen_070_A10_A10_021.fcs\"\n",
    "\n",
    "inputs = {\n",
    "    ('1'    ,'1' ,'Multi')             :FolderWithFlowFiles+'Specimen_067_A7_A07_018.fcs',\n",
    "    ('2'    ,'1' ,'Blue')              :FolderWithFlowFiles+'Specimen_068_A8_A08_019.fcs',\n",
    "    ('3'    ,'1' ,'Green')             :FolderWithFlowFiles+'Specimen_069_A9_A09_020.fcs',\n",
    "    ('4'    ,'1' ,'mKO2')              :FolderWithFlowFiles+'Specimen_070_A10_A10_021.fcs',\n",
    "    ('5'    ,'1' ,'mKate2')            :FolderWithFlowFiles+'Specimen_071_A11_A11_022.fcs',\n",
    "    ('6'    ,'1' ,'mCherry')           :FolderWithFlowFiles+'Specimen_072_A12_A12_023.fcs',\n",
    "    \n",
    "    ('7'   ,'1' ,'WildType')          :FolderWithFlowFiles+'Specimen_061_B7_B07_017.fcs',\n",
    "    ('8'    ,'1' ,'1xPRMPv10-0P-1')        :FolderWithFlowFiles+'Specimen_007_B1_B01_007.fcs',\n",
    "    ('9'    ,'1' ,'1xPRMPv10-100P-1')      :FolderWithFlowFiles+'Specimen_009_B3_B03_008.fcs',\n",
    "    \n",
    "    ('10'    ,'2' ,'1xPRMPv10-0P-2')        :FolderWithFlowFiles+'Specimen_013_C1_C01_011.fcs',\n",
    "    ('11'    ,'2' ,'1xPRMPv10-100P-2')      :FolderWithFlowFiles+'Specimen_015_C3_C03_012.fcs',\n",
    "    \n",
    "    ('12'    ,'1' ,'PRMPv10-Pos-1')       :FolderWithFlowFiles+'Specimen_019_D1_D01_015.fcs',\n",
    "    ('13'    ,'2' ,'PRMPv10-Pos-2')       :FolderWithFlowFiles+'Specimen_020_D2_D02_016.fcs',\n",
    "    ('14'    ,'1' ,'1xPRMPv10-Neg-1')       :FolderWithFlowFiles+'Specimen_001_A1_A01_001.fcs',\n",
    "    ('15'    ,'2' ,'1xPRMPv10-Neg-2')       :FolderWithFlowFiles+'Specimen_002_A2_A02_002.fcs',\n",
    "    ('16'    ,'1' ,'PRMPv10-NegL-1')      :FolderWithFlowFiles+'Specimen_003_A3_A03_003.fcs',\n",
    "    ('17'    ,'2' ,'PRMPv10-NegL-2')      :FolderWithFlowFiles+'Specimen_004_A4_A04_004.fcs',\n",
    "    \n",
    "    ('18'    ,'1' ,'2xPRMPv10-0P-1')       :FolderWithFlowFiles+'Specimen_010_B4_B04_009.fcs',\n",
    "    ('19'    ,'1' ,'2xPRMPv10-100P-1')     :FolderWithFlowFiles+'Specimen_012_B6_B06_010.fcs',\n",
    "    ('20'    ,'2' ,'2xPRMPv10-0P-2')       :FolderWithFlowFiles+'Specimen_016_C4_C04_013.fcs',\n",
    "    ('21'    ,'2' ,'2xPRMPv10-100P-2')     :FolderWithFlowFiles+'Specimen_018_C6_C06_014.fcs',\n",
    "    ('22'    ,'1' ,'2xPRMPv10-Neg-1')      :FolderWithFlowFiles+'Specimen_005_A5_A05_005.fcs',\n",
    "    ('23'    ,'2' ,'2xPRMPv10-Neg-2')      :FolderWithFlowFiles+'Specimen_006_A6_A06_006.fcs',\n",
    "\n",
    "\n",
    "}"
   ]
  },
  {
   "cell_type": "code",
   "execution_count": 31,
   "metadata": {},
   "outputs": [
    {
     "ename": "MemoryError",
     "evalue": "",
     "output_type": "error",
     "traceback": [
      "\u001b[1;31m---------------------------------------------------------------------------\u001b[0m",
      "\u001b[1;31mMemoryError\u001b[0m                               Traceback (most recent call last)",
      "\u001b[1;32m<ipython-input-31-29ea5c1c1a32>\u001b[0m in \u001b[0;36m<module>\u001b[1;34m\u001b[0m\n\u001b[0;32m     12\u001b[0m                                         'Sample' : \"category\"},\n\u001b[0;32m     13\u001b[0m                           tubes = tubes)\n\u001b[1;32m---> 14\u001b[1;33m \u001b[0mex\u001b[0m \u001b[1;33m=\u001b[0m \u001b[0mimport_op\u001b[0m\u001b[1;33m.\u001b[0m\u001b[0mapply\u001b[0m\u001b[1;33m(\u001b[0m\u001b[1;33m)\u001b[0m\u001b[1;33m\u001b[0m\u001b[1;33m\u001b[0m\u001b[0m\n\u001b[0m",
      "\u001b[1;32m~\\Anaconda3\\envs\\cf\\lib\\site-packages\\cytoflow\\operations\\import_op.py\u001b[0m in \u001b[0;36mapply\u001b[1;34m(self, experiment, metadata_only)\u001b[0m\n\u001b[0;32m    381\u001b[0m                                       util.CytoflowWarning)\n\u001b[0;32m    382\u001b[0m \u001b[1;33m\u001b[0m\u001b[0m\n\u001b[1;32m--> 383\u001b[1;33m                 \u001b[0mexperiment\u001b[0m\u001b[1;33m.\u001b[0m\u001b[0madd_events\u001b[0m\u001b[1;33m(\u001b[0m\u001b[0mtube_data\u001b[0m\u001b[1;33m[\u001b[0m\u001b[0mchannels\u001b[0m\u001b[1;33m]\u001b[0m\u001b[1;33m,\u001b[0m \u001b[0mtube\u001b[0m\u001b[1;33m.\u001b[0m\u001b[0mconditions\u001b[0m\u001b[1;33m)\u001b[0m\u001b[1;33m\u001b[0m\u001b[1;33m\u001b[0m\u001b[0m\n\u001b[0m\u001b[0;32m    384\u001b[0m \u001b[1;33m\u001b[0m\u001b[0m\n\u001b[0;32m    385\u001b[0m             \u001b[1;31m# extract the row and column from wells collected on a\u001b[0m\u001b[1;33m\u001b[0m\u001b[1;33m\u001b[0m\u001b[1;33m\u001b[0m\u001b[0m\n",
      "\u001b[1;32m~\\Anaconda3\\envs\\cf\\lib\\site-packages\\cytoflow\\experiment.py\u001b[0m in \u001b[0;36madd_events\u001b[1;34m(self, data, conditions)\u001b[0m\n\u001b[0;32m    524\u001b[0m                 \u001b[0mnew_data\u001b[0m\u001b[1;33m[\u001b[0m\u001b[0mmeta_name\u001b[0m\u001b[1;33m]\u001b[0m \u001b[1;33m=\u001b[0m \u001b[0mnew_data\u001b[0m\u001b[1;33m[\u001b[0m\u001b[0mmeta_name\u001b[0m\u001b[1;33m]\u001b[0m\u001b[1;33m.\u001b[0m\u001b[0mcat\u001b[0m\u001b[1;33m.\u001b[0m\u001b[0mset_categories\u001b[0m\u001b[1;33m(\u001b[0m\u001b[0mcats\u001b[0m\u001b[1;33m)\u001b[0m\u001b[1;33m\u001b[0m\u001b[1;33m\u001b[0m\u001b[0m\n\u001b[0;32m    525\u001b[0m \u001b[1;33m\u001b[0m\u001b[0m\n\u001b[1;32m--> 526\u001b[1;33m         \u001b[0mself\u001b[0m\u001b[1;33m.\u001b[0m\u001b[0mdata\u001b[0m \u001b[1;33m=\u001b[0m \u001b[0mself\u001b[0m\u001b[1;33m.\u001b[0m\u001b[0mdata\u001b[0m\u001b[1;33m.\u001b[0m\u001b[0mappend\u001b[0m\u001b[1;33m(\u001b[0m\u001b[0mnew_data\u001b[0m\u001b[1;33m,\u001b[0m \u001b[0mignore_index\u001b[0m \u001b[1;33m=\u001b[0m \u001b[1;32mTrue\u001b[0m\u001b[1;33m,\u001b[0m \u001b[0msort\u001b[0m \u001b[1;33m=\u001b[0m \u001b[1;32mTrue\u001b[0m\u001b[1;33m)\u001b[0m\u001b[1;33m\u001b[0m\u001b[1;33m\u001b[0m\u001b[0m\n\u001b[0m\u001b[0;32m    527\u001b[0m         \u001b[1;32mdel\u001b[0m \u001b[0mnew_data\u001b[0m\u001b[1;33m\u001b[0m\u001b[1;33m\u001b[0m\u001b[0m\n\u001b[0;32m    528\u001b[0m \u001b[1;33m\u001b[0m\u001b[0m\n",
      "\u001b[1;32m~\\Anaconda3\\envs\\cf\\lib\\site-packages\\pandas\\core\\frame.py\u001b[0m in \u001b[0;36mappend\u001b[1;34m(self, other, ignore_index, verify_integrity, sort)\u001b[0m\n\u001b[0;32m   6209\u001b[0m         return concat(to_concat, ignore_index=ignore_index,\n\u001b[0;32m   6210\u001b[0m                       \u001b[0mverify_integrity\u001b[0m\u001b[1;33m=\u001b[0m\u001b[0mverify_integrity\u001b[0m\u001b[1;33m,\u001b[0m\u001b[1;33m\u001b[0m\u001b[1;33m\u001b[0m\u001b[0m\n\u001b[1;32m-> 6211\u001b[1;33m                       sort=sort)\n\u001b[0m\u001b[0;32m   6212\u001b[0m \u001b[1;33m\u001b[0m\u001b[0m\n\u001b[0;32m   6213\u001b[0m     def join(self, other, on=None, how='left', lsuffix='', rsuffix='',\n",
      "\u001b[1;32m~\\Anaconda3\\envs\\cf\\lib\\site-packages\\pandas\\core\\reshape\\concat.py\u001b[0m in \u001b[0;36mconcat\u001b[1;34m(objs, axis, join, join_axes, ignore_index, keys, levels, names, verify_integrity, sort, copy)\u001b[0m\n\u001b[0;32m    223\u001b[0m                        \u001b[0mkeys\u001b[0m\u001b[1;33m=\u001b[0m\u001b[0mkeys\u001b[0m\u001b[1;33m,\u001b[0m \u001b[0mlevels\u001b[0m\u001b[1;33m=\u001b[0m\u001b[0mlevels\u001b[0m\u001b[1;33m,\u001b[0m \u001b[0mnames\u001b[0m\u001b[1;33m=\u001b[0m\u001b[0mnames\u001b[0m\u001b[1;33m,\u001b[0m\u001b[1;33m\u001b[0m\u001b[1;33m\u001b[0m\u001b[0m\n\u001b[0;32m    224\u001b[0m                        \u001b[0mverify_integrity\u001b[0m\u001b[1;33m=\u001b[0m\u001b[0mverify_integrity\u001b[0m\u001b[1;33m,\u001b[0m\u001b[1;33m\u001b[0m\u001b[1;33m\u001b[0m\u001b[0m\n\u001b[1;32m--> 225\u001b[1;33m                        copy=copy, sort=sort)\n\u001b[0m\u001b[0;32m    226\u001b[0m     \u001b[1;32mreturn\u001b[0m \u001b[0mop\u001b[0m\u001b[1;33m.\u001b[0m\u001b[0mget_result\u001b[0m\u001b[1;33m(\u001b[0m\u001b[1;33m)\u001b[0m\u001b[1;33m\u001b[0m\u001b[1;33m\u001b[0m\u001b[0m\n\u001b[0;32m    227\u001b[0m \u001b[1;33m\u001b[0m\u001b[0m\n",
      "\u001b[1;32m~\\Anaconda3\\envs\\cf\\lib\\site-packages\\pandas\\core\\reshape\\concat.py\u001b[0m in \u001b[0;36m__init__\u001b[1;34m(self, objs, axis, join, join_axes, keys, levels, names, ignore_index, verify_integrity, copy, sort)\u001b[0m\n\u001b[0;32m    287\u001b[0m \u001b[1;33m\u001b[0m\u001b[0m\n\u001b[0;32m    288\u001b[0m             \u001b[1;31m# consolidate\u001b[0m\u001b[1;33m\u001b[0m\u001b[1;33m\u001b[0m\u001b[1;33m\u001b[0m\u001b[0m\n\u001b[1;32m--> 289\u001b[1;33m             \u001b[0mobj\u001b[0m\u001b[1;33m.\u001b[0m\u001b[0m_consolidate\u001b[0m\u001b[1;33m(\u001b[0m\u001b[0minplace\u001b[0m\u001b[1;33m=\u001b[0m\u001b[1;32mTrue\u001b[0m\u001b[1;33m)\u001b[0m\u001b[1;33m\u001b[0m\u001b[1;33m\u001b[0m\u001b[0m\n\u001b[0m\u001b[0;32m    290\u001b[0m             \u001b[0mndims\u001b[0m\u001b[1;33m.\u001b[0m\u001b[0madd\u001b[0m\u001b[1;33m(\u001b[0m\u001b[0mobj\u001b[0m\u001b[1;33m.\u001b[0m\u001b[0mndim\u001b[0m\u001b[1;33m)\u001b[0m\u001b[1;33m\u001b[0m\u001b[1;33m\u001b[0m\u001b[0m\n\u001b[0;32m    291\u001b[0m \u001b[1;33m\u001b[0m\u001b[0m\n",
      "\u001b[1;32m~\\Anaconda3\\envs\\cf\\lib\\site-packages\\pandas\\core\\generic.py\u001b[0m in \u001b[0;36m_consolidate\u001b[1;34m(self, inplace)\u001b[0m\n\u001b[0;32m   4455\u001b[0m         \u001b[0minplace\u001b[0m \u001b[1;33m=\u001b[0m \u001b[0mvalidate_bool_kwarg\u001b[0m\u001b[1;33m(\u001b[0m\u001b[0minplace\u001b[0m\u001b[1;33m,\u001b[0m \u001b[1;34m'inplace'\u001b[0m\u001b[1;33m)\u001b[0m\u001b[1;33m\u001b[0m\u001b[1;33m\u001b[0m\u001b[0m\n\u001b[0;32m   4456\u001b[0m         \u001b[1;32mif\u001b[0m \u001b[0minplace\u001b[0m\u001b[1;33m:\u001b[0m\u001b[1;33m\u001b[0m\u001b[1;33m\u001b[0m\u001b[0m\n\u001b[1;32m-> 4457\u001b[1;33m             \u001b[0mself\u001b[0m\u001b[1;33m.\u001b[0m\u001b[0m_consolidate_inplace\u001b[0m\u001b[1;33m(\u001b[0m\u001b[1;33m)\u001b[0m\u001b[1;33m\u001b[0m\u001b[1;33m\u001b[0m\u001b[0m\n\u001b[0m\u001b[0;32m   4458\u001b[0m         \u001b[1;32melse\u001b[0m\u001b[1;33m:\u001b[0m\u001b[1;33m\u001b[0m\u001b[1;33m\u001b[0m\u001b[0m\n\u001b[0;32m   4459\u001b[0m             \u001b[0mf\u001b[0m \u001b[1;33m=\u001b[0m \u001b[1;32mlambda\u001b[0m\u001b[1;33m:\u001b[0m \u001b[0mself\u001b[0m\u001b[1;33m.\u001b[0m\u001b[0m_data\u001b[0m\u001b[1;33m.\u001b[0m\u001b[0mconsolidate\u001b[0m\u001b[1;33m(\u001b[0m\u001b[1;33m)\u001b[0m\u001b[1;33m\u001b[0m\u001b[1;33m\u001b[0m\u001b[0m\n",
      "\u001b[1;32m~\\Anaconda3\\envs\\cf\\lib\\site-packages\\pandas\\core\\generic.py\u001b[0m in \u001b[0;36m_consolidate_inplace\u001b[1;34m(self)\u001b[0m\n\u001b[0;32m   4437\u001b[0m             \u001b[0mself\u001b[0m\u001b[1;33m.\u001b[0m\u001b[0m_data\u001b[0m \u001b[1;33m=\u001b[0m \u001b[0mself\u001b[0m\u001b[1;33m.\u001b[0m\u001b[0m_data\u001b[0m\u001b[1;33m.\u001b[0m\u001b[0mconsolidate\u001b[0m\u001b[1;33m(\u001b[0m\u001b[1;33m)\u001b[0m\u001b[1;33m\u001b[0m\u001b[1;33m\u001b[0m\u001b[0m\n\u001b[0;32m   4438\u001b[0m \u001b[1;33m\u001b[0m\u001b[0m\n\u001b[1;32m-> 4439\u001b[1;33m         \u001b[0mself\u001b[0m\u001b[1;33m.\u001b[0m\u001b[0m_protect_consolidate\u001b[0m\u001b[1;33m(\u001b[0m\u001b[0mf\u001b[0m\u001b[1;33m)\u001b[0m\u001b[1;33m\u001b[0m\u001b[1;33m\u001b[0m\u001b[0m\n\u001b[0m\u001b[0;32m   4440\u001b[0m \u001b[1;33m\u001b[0m\u001b[0m\n\u001b[0;32m   4441\u001b[0m     \u001b[1;32mdef\u001b[0m \u001b[0m_consolidate\u001b[0m\u001b[1;33m(\u001b[0m\u001b[0mself\u001b[0m\u001b[1;33m,\u001b[0m \u001b[0minplace\u001b[0m\u001b[1;33m=\u001b[0m\u001b[1;32mFalse\u001b[0m\u001b[1;33m)\u001b[0m\u001b[1;33m:\u001b[0m\u001b[1;33m\u001b[0m\u001b[1;33m\u001b[0m\u001b[0m\n",
      "\u001b[1;32m~\\Anaconda3\\envs\\cf\\lib\\site-packages\\pandas\\core\\generic.py\u001b[0m in \u001b[0;36m_protect_consolidate\u001b[1;34m(self, f)\u001b[0m\n\u001b[0;32m   4426\u001b[0m         \"\"\"\n\u001b[0;32m   4427\u001b[0m         \u001b[0mblocks_before\u001b[0m \u001b[1;33m=\u001b[0m \u001b[0mlen\u001b[0m\u001b[1;33m(\u001b[0m\u001b[0mself\u001b[0m\u001b[1;33m.\u001b[0m\u001b[0m_data\u001b[0m\u001b[1;33m.\u001b[0m\u001b[0mblocks\u001b[0m\u001b[1;33m)\u001b[0m\u001b[1;33m\u001b[0m\u001b[1;33m\u001b[0m\u001b[0m\n\u001b[1;32m-> 4428\u001b[1;33m         \u001b[0mresult\u001b[0m \u001b[1;33m=\u001b[0m \u001b[0mf\u001b[0m\u001b[1;33m(\u001b[0m\u001b[1;33m)\u001b[0m\u001b[1;33m\u001b[0m\u001b[1;33m\u001b[0m\u001b[0m\n\u001b[0m\u001b[0;32m   4429\u001b[0m         \u001b[1;32mif\u001b[0m \u001b[0mlen\u001b[0m\u001b[1;33m(\u001b[0m\u001b[0mself\u001b[0m\u001b[1;33m.\u001b[0m\u001b[0m_data\u001b[0m\u001b[1;33m.\u001b[0m\u001b[0mblocks\u001b[0m\u001b[1;33m)\u001b[0m \u001b[1;33m!=\u001b[0m \u001b[0mblocks_before\u001b[0m\u001b[1;33m:\u001b[0m\u001b[1;33m\u001b[0m\u001b[1;33m\u001b[0m\u001b[0m\n\u001b[0;32m   4430\u001b[0m             \u001b[0mself\u001b[0m\u001b[1;33m.\u001b[0m\u001b[0m_clear_item_cache\u001b[0m\u001b[1;33m(\u001b[0m\u001b[1;33m)\u001b[0m\u001b[1;33m\u001b[0m\u001b[1;33m\u001b[0m\u001b[0m\n",
      "\u001b[1;32m~\\Anaconda3\\envs\\cf\\lib\\site-packages\\pandas\\core\\generic.py\u001b[0m in \u001b[0;36mf\u001b[1;34m()\u001b[0m\n\u001b[0;32m   4435\u001b[0m \u001b[1;33m\u001b[0m\u001b[0m\n\u001b[0;32m   4436\u001b[0m         \u001b[1;32mdef\u001b[0m \u001b[0mf\u001b[0m\u001b[1;33m(\u001b[0m\u001b[1;33m)\u001b[0m\u001b[1;33m:\u001b[0m\u001b[1;33m\u001b[0m\u001b[1;33m\u001b[0m\u001b[0m\n\u001b[1;32m-> 4437\u001b[1;33m             \u001b[0mself\u001b[0m\u001b[1;33m.\u001b[0m\u001b[0m_data\u001b[0m \u001b[1;33m=\u001b[0m \u001b[0mself\u001b[0m\u001b[1;33m.\u001b[0m\u001b[0m_data\u001b[0m\u001b[1;33m.\u001b[0m\u001b[0mconsolidate\u001b[0m\u001b[1;33m(\u001b[0m\u001b[1;33m)\u001b[0m\u001b[1;33m\u001b[0m\u001b[1;33m\u001b[0m\u001b[0m\n\u001b[0m\u001b[0;32m   4438\u001b[0m \u001b[1;33m\u001b[0m\u001b[0m\n\u001b[0;32m   4439\u001b[0m         \u001b[0mself\u001b[0m\u001b[1;33m.\u001b[0m\u001b[0m_protect_consolidate\u001b[0m\u001b[1;33m(\u001b[0m\u001b[0mf\u001b[0m\u001b[1;33m)\u001b[0m\u001b[1;33m\u001b[0m\u001b[1;33m\u001b[0m\u001b[0m\n",
      "\u001b[1;32m~\\Anaconda3\\envs\\cf\\lib\\site-packages\\pandas\\core\\internals.py\u001b[0m in \u001b[0;36mconsolidate\u001b[1;34m(self)\u001b[0m\n\u001b[0;32m   4096\u001b[0m         \u001b[0mbm\u001b[0m \u001b[1;33m=\u001b[0m \u001b[0mself\u001b[0m\u001b[1;33m.\u001b[0m\u001b[0m__class__\u001b[0m\u001b[1;33m(\u001b[0m\u001b[0mself\u001b[0m\u001b[1;33m.\u001b[0m\u001b[0mblocks\u001b[0m\u001b[1;33m,\u001b[0m \u001b[0mself\u001b[0m\u001b[1;33m.\u001b[0m\u001b[0maxes\u001b[0m\u001b[1;33m)\u001b[0m\u001b[1;33m\u001b[0m\u001b[1;33m\u001b[0m\u001b[0m\n\u001b[0;32m   4097\u001b[0m         \u001b[0mbm\u001b[0m\u001b[1;33m.\u001b[0m\u001b[0m_is_consolidated\u001b[0m \u001b[1;33m=\u001b[0m \u001b[1;32mFalse\u001b[0m\u001b[1;33m\u001b[0m\u001b[1;33m\u001b[0m\u001b[0m\n\u001b[1;32m-> 4098\u001b[1;33m         \u001b[0mbm\u001b[0m\u001b[1;33m.\u001b[0m\u001b[0m_consolidate_inplace\u001b[0m\u001b[1;33m(\u001b[0m\u001b[1;33m)\u001b[0m\u001b[1;33m\u001b[0m\u001b[1;33m\u001b[0m\u001b[0m\n\u001b[0m\u001b[0;32m   4099\u001b[0m         \u001b[1;32mreturn\u001b[0m \u001b[0mbm\u001b[0m\u001b[1;33m\u001b[0m\u001b[1;33m\u001b[0m\u001b[0m\n\u001b[0;32m   4100\u001b[0m \u001b[1;33m\u001b[0m\u001b[0m\n",
      "\u001b[1;32m~\\Anaconda3\\envs\\cf\\lib\\site-packages\\pandas\\core\\internals.py\u001b[0m in \u001b[0;36m_consolidate_inplace\u001b[1;34m(self)\u001b[0m\n\u001b[0;32m   4101\u001b[0m     \u001b[1;32mdef\u001b[0m \u001b[0m_consolidate_inplace\u001b[0m\u001b[1;33m(\u001b[0m\u001b[0mself\u001b[0m\u001b[1;33m)\u001b[0m\u001b[1;33m:\u001b[0m\u001b[1;33m\u001b[0m\u001b[1;33m\u001b[0m\u001b[0m\n\u001b[0;32m   4102\u001b[0m         \u001b[1;32mif\u001b[0m \u001b[1;32mnot\u001b[0m \u001b[0mself\u001b[0m\u001b[1;33m.\u001b[0m\u001b[0mis_consolidated\u001b[0m\u001b[1;33m(\u001b[0m\u001b[1;33m)\u001b[0m\u001b[1;33m:\u001b[0m\u001b[1;33m\u001b[0m\u001b[1;33m\u001b[0m\u001b[0m\n\u001b[1;32m-> 4103\u001b[1;33m             \u001b[0mself\u001b[0m\u001b[1;33m.\u001b[0m\u001b[0mblocks\u001b[0m \u001b[1;33m=\u001b[0m \u001b[0mtuple\u001b[0m\u001b[1;33m(\u001b[0m\u001b[0m_consolidate\u001b[0m\u001b[1;33m(\u001b[0m\u001b[0mself\u001b[0m\u001b[1;33m.\u001b[0m\u001b[0mblocks\u001b[0m\u001b[1;33m)\u001b[0m\u001b[1;33m)\u001b[0m\u001b[1;33m\u001b[0m\u001b[1;33m\u001b[0m\u001b[0m\n\u001b[0m\u001b[0;32m   4104\u001b[0m             \u001b[0mself\u001b[0m\u001b[1;33m.\u001b[0m\u001b[0m_is_consolidated\u001b[0m \u001b[1;33m=\u001b[0m \u001b[1;32mTrue\u001b[0m\u001b[1;33m\u001b[0m\u001b[1;33m\u001b[0m\u001b[0m\n\u001b[0;32m   4105\u001b[0m             \u001b[0mself\u001b[0m\u001b[1;33m.\u001b[0m\u001b[0m_known_consolidated\u001b[0m \u001b[1;33m=\u001b[0m \u001b[1;32mTrue\u001b[0m\u001b[1;33m\u001b[0m\u001b[1;33m\u001b[0m\u001b[0m\n",
      "\u001b[1;32m~\\Anaconda3\\envs\\cf\\lib\\site-packages\\pandas\\core\\internals.py\u001b[0m in \u001b[0;36m_consolidate\u001b[1;34m(blocks)\u001b[0m\n\u001b[0;32m   5067\u001b[0m     \u001b[1;32mfor\u001b[0m \u001b[1;33m(\u001b[0m\u001b[0m_can_consolidate\u001b[0m\u001b[1;33m,\u001b[0m \u001b[0mdtype\u001b[0m\u001b[1;33m)\u001b[0m\u001b[1;33m,\u001b[0m \u001b[0mgroup_blocks\u001b[0m \u001b[1;32min\u001b[0m \u001b[0mgrouper\u001b[0m\u001b[1;33m:\u001b[0m\u001b[1;33m\u001b[0m\u001b[1;33m\u001b[0m\u001b[0m\n\u001b[0;32m   5068\u001b[0m         merged_blocks = _merge_blocks(list(group_blocks), dtype=dtype,\n\u001b[1;32m-> 5069\u001b[1;33m                                       _can_consolidate=_can_consolidate)\n\u001b[0m\u001b[0;32m   5070\u001b[0m         \u001b[0mnew_blocks\u001b[0m \u001b[1;33m=\u001b[0m \u001b[0m_extend_blocks\u001b[0m\u001b[1;33m(\u001b[0m\u001b[0mmerged_blocks\u001b[0m\u001b[1;33m,\u001b[0m \u001b[0mnew_blocks\u001b[0m\u001b[1;33m)\u001b[0m\u001b[1;33m\u001b[0m\u001b[1;33m\u001b[0m\u001b[0m\n\u001b[0;32m   5071\u001b[0m     \u001b[1;32mreturn\u001b[0m \u001b[0mnew_blocks\u001b[0m\u001b[1;33m\u001b[0m\u001b[1;33m\u001b[0m\u001b[0m\n",
      "\u001b[1;32m~\\Anaconda3\\envs\\cf\\lib\\site-packages\\pandas\\core\\internals.py\u001b[0m in \u001b[0;36m_merge_blocks\u001b[1;34m(blocks, dtype, _can_consolidate)\u001b[0m\n\u001b[0;32m   5090\u001b[0m \u001b[1;33m\u001b[0m\u001b[0m\n\u001b[0;32m   5091\u001b[0m         \u001b[0margsort\u001b[0m \u001b[1;33m=\u001b[0m \u001b[0mnp\u001b[0m\u001b[1;33m.\u001b[0m\u001b[0margsort\u001b[0m\u001b[1;33m(\u001b[0m\u001b[0mnew_mgr_locs\u001b[0m\u001b[1;33m)\u001b[0m\u001b[1;33m\u001b[0m\u001b[1;33m\u001b[0m\u001b[0m\n\u001b[1;32m-> 5092\u001b[1;33m         \u001b[0mnew_values\u001b[0m \u001b[1;33m=\u001b[0m \u001b[0mnew_values\u001b[0m\u001b[1;33m[\u001b[0m\u001b[0margsort\u001b[0m\u001b[1;33m]\u001b[0m\u001b[1;33m\u001b[0m\u001b[1;33m\u001b[0m\u001b[0m\n\u001b[0m\u001b[0;32m   5093\u001b[0m         \u001b[0mnew_mgr_locs\u001b[0m \u001b[1;33m=\u001b[0m \u001b[0mnew_mgr_locs\u001b[0m\u001b[1;33m[\u001b[0m\u001b[0margsort\u001b[0m\u001b[1;33m]\u001b[0m\u001b[1;33m\u001b[0m\u001b[1;33m\u001b[0m\u001b[0m\n\u001b[0;32m   5094\u001b[0m \u001b[1;33m\u001b[0m\u001b[0m\n",
      "\u001b[1;31mMemoryError\u001b[0m: "
     ]
    }
   ],
   "source": [
    "tubes = []\n",
    "\n",
    "for (abrevKey, repKey, sampleKey), filename in inputs.items(): #Python 3.0\n",
    "    tube = flow.Tube(file = filename,\n",
    "                     conditions = {'Abreviation' : abrevKey,\n",
    "                                   'Rep' : repKey,\n",
    "                                   'Sample' : sampleKey})\n",
    "    tubes.append(tube)\n",
    "\n",
    "import_op = flow.ImportOp(conditions = {'Abreviation' : \"category\",\n",
    "                                        'Rep' : \"category\",\n",
    "                                        'Sample' : \"category\"},\n",
    "                          tubes = tubes)\n",
    "ex = import_op.apply()"
   ]
  },
  {
   "cell_type": "code",
   "execution_count": null,
   "metadata": {},
   "outputs": [],
   "source": [
    "ex.data.columns.values"
   ]
  },
  {
   "cell_type": "code",
   "execution_count": null,
   "metadata": {},
   "outputs": [],
   "source": [
    "flow.ScatterplotView(xchannel = \"FSC-A\",\n",
    "                     ychannel = \"SSC-A\",\n",
    "                     yscale = \"log\").plot(ex, alpha = 0.005)\n",
    "plt.xlim((0,300000));"
   ]
  },
  {
   "cell_type": "code",
   "execution_count": null,
   "metadata": {},
   "outputs": [],
   "source": [
    "%matplotlib inline\n",
    "gm_1 = flow.GaussianMixture2DOp(name = \"Morpho1\",\n",
    "                                xchannel = \"FSC-A\",\n",
    "                                ychannel = \"SSC-A\",\n",
    "                                yscale = \"log\",\n",
    "                                num_components = 2,\n",
    "                                sigma = 4)\n",
    "gm_1.estimate(ex)\n",
    "gm_1.default_view().plot(ex, alpha = 0.005)\n",
    "plt.ylim((0.1,100000));\n",
    "ex_morpho1 = gm_1.apply(ex)\n",
    "h = plt.gcf()\n",
    "#h.savefig(ExperimentIndex+'Morpho1.png')"
   ]
  },
  {
   "cell_type": "code",
   "execution_count": null,
   "metadata": {},
   "outputs": [],
   "source": [
    "flow.ScatterplotView(xchannel = \"FSC-A\",\n",
    "                     ychannel = \"SSC-A\",\n",
    "                     yscale = \"log\",\n",
    "                     subset = \"'Morpho1_2' in Morpho1\").plot(ex_morpho1, alpha = 0.005)\n",
    "h = plt.gcf()\n",
    "#h.savefig(ExperimentIndex+'Morpho1Check.png')"
   ]
  },
  {
   "cell_type": "code",
   "execution_count": null,
   "metadata": {},
   "outputs": [],
   "source": [
    "MorphoString = \"'Morpho1_2' in Morpho1\"\n",
    "flow.ScatterplotView(xchannel = \"FSC-W\",\n",
    "                     ychannel = \"FSC-H\",\n",
    "                     subset = MorphoString).plot(ex_morpho1, alpha = 0.1)\n",
    "plt.ylim((0.1,200000));\n",
    "plt.xlim((0.1,200000));"
   ]
  },
  {
   "cell_type": "code",
   "execution_count": null,
   "metadata": {},
   "outputs": [],
   "source": [
    "MorphoString = \"'Morpho1_2' in Morpho1\"\n",
    "gm_1 = flow.GaussianMixture2DOp(name = \"Morpho2\",\n",
    "                                xchannel = \"FSC-W\",\n",
    "                                ychannel = \"FSC-H\",\n",
    "                                num_components = 1,\n",
    "                                sigma = 4)\n",
    "gm_1.estimate(ex_morpho1,subset = MorphoString)\n",
    "gm_1.default_view(subset = MorphoString).plot(ex_morpho1, alpha = 0.005)\n",
    "plt.ylim((0.1,200000));\n",
    "plt.xlim((0.1,200000));\n",
    "ex_morpho2 = gm_1.apply(ex_morpho1)\n",
    "h = plt.gcf()\n",
    "#h.savefig(ExperimentIndex+'Morpho2.png')"
   ]
  },
  {
   "cell_type": "code",
   "execution_count": null,
   "metadata": {},
   "outputs": [],
   "source": [
    "MorphoString = \"'Morpho1_2' in Morpho1 and Morpho2 == True\"\n",
    "flow.ScatterplotView(xchannel = \"FSC-W\",\n",
    "                     ychannel = \"FSC-H\",\n",
    "                     subset = MorphoString).plot(ex_morpho2, alpha = 0.005)\n",
    "plt.ylim((0.1,200000));\n",
    "h = plt.gcf()\n",
    "#h.savefig(ExperimentIndex+'Morpho2Check.png')"
   ]
  },
  {
   "cell_type": "code",
   "execution_count": null,
   "metadata": {},
   "outputs": [],
   "source": [
    "flow.ScatterplotView(xchannel = \"SSC-W\",\n",
    "                     ychannel = \"SSC-H\",\n",
    "                     xscale = \"log\",\n",
    "                     yscale = \"log\",\n",
    "                     subset = MorphoString).plot(ex_morpho2, alpha = 0.005)\n",
    "h = plt.gcf()\n",
    "#h.savefig(ExperimentIndex+'EndMorphoCheck.png')"
   ]
  },
  {
   "cell_type": "code",
   "execution_count": null,
   "metadata": {
    "scrolled": true
   },
   "outputs": [],
   "source": [
    "ex_morpho2.data.columns.values"
   ]
  },
  {
   "cell_type": "code",
   "execution_count": null,
   "metadata": {},
   "outputs": [],
   "source": [
    "ex_morpho2.data"
   ]
  },
  {
   "cell_type": "code",
   "execution_count": null,
   "metadata": {},
   "outputs": [],
   "source": [
    "af_op = flow.AutofluorescenceOp()\n",
    "af_op.blank_file = BlankControlName\n",
    "af_op.channels = [GreenChannel,BlueChannel]\n",
    "af_op.estimate(ex_morpho2, subset = MorphoString)\n",
    "af_op.default_view().plot(ex_morpho2)\n",
    "plt.rcParams[\"figure.figsize\"] = [10,10]\n",
    "ex_af = af_op.apply(ex_morpho2)\n",
    "\n",
    "#h = plt.gcf()\n",
    "#h.savefig(ExperimentIndex+'AF.png', transparent=True, bbox_inches='tight')\n",
    "#ex_af = ex_morpho2"
   ]
  },
  {
   "cell_type": "code",
   "execution_count": null,
   "metadata": {},
   "outputs": [],
   "source": [
    "bl_op = flow.BleedthroughLinearOp()\n",
    "bl_op.controls = {GreenChannel   : YellowControlName,\n",
    "                  BlueChannel    : BlueControlName}\n",
    "bl_op.estimate(ex_af, subset = MorphoString)\n",
    "bl_op.default_view().plot(ex_af)\n",
    "\n",
    "%time ex_bl = bl_op.apply(ex_af)\n",
    "\n",
    "h = plt.gcf()\n",
    "h.savefig(ExperimentIndex+'Bleed.png')\n",
    "ex_bl = ex_af"
   ]
  },
  {
   "cell_type": "code",
   "execution_count": null,
   "metadata": {},
   "outputs": [],
   "source": [
    "#bead_op = flow.BeadCalibrationOp()\n",
    "#bead_op.beads = flow.BeadCalibrationOp.BEADS[\"Spherotech RCP-30-5A Lot AG01, AF02, AD04 and AAE01\"] #we used AF01 need to update\n",
    "#bead_op.units = {BlueChannel : \"MEFL\",\n",
    "#                 GreenChannel : \"MEFL\"}\n",
    "#\n",
    "#bead_op.bead_brightness_threshold = 80\n",
    "#bead_op.beads_file = BeadName\n",
    "#bead_op.estimate(ex_bl)\n",
    "#\n",
    "#bead_op.default_view().plot(ex_bl)\n",
    "#h = plt.gcf()\n",
    "#h.set_size_inches(8,40)\n",
    "#ex_beads = bead_op.apply(ex_bl)\n",
    "ex_beads = ex_bl\n",
    "\n",
    "#h = plt.gcf()\n",
    "#h.savefig(ExperimentIndex+'Beads.png')    "
   ]
  },
  {
   "cell_type": "code",
   "execution_count": null,
   "metadata": {},
   "outputs": [],
   "source": [
    "## NOTE sample so sparce had to remove Morpho Gate...\n",
    "#ct_op = flow.ColorTranslationOp()\n",
    "#ct_op.translation = {BlueChannel : GreenChannel}\n",
    "#ct_op.controls = {(BlueChannel, GreenChannel) : MultiControl}\n",
    "#ct_op.mixture_model = True\n",
    "#\n",
    "#ct_op.estimate(ex_beads,subset = MorphoString)\n",
    "#ct_op.default_view().plot(ex_beads)\n",
    "#ex_calib = ct_op.apply(ex_beads)\n",
    "ex_calib = ex_beads\n",
    "\n",
    "#h = plt.gcf()\n",
    "#h.savefig(ExperimentIndex+'Color.png', transparent=True, bbox_inches='tight')"
   ]
  },
  {
   "cell_type": "code",
   "execution_count": null,
   "metadata": {},
   "outputs": [],
   "source": [
    "bin_op = flow.BinningOp(name = \"Transfection_Bin\",\n",
    "                        channel = BlueChannel,\n",
    "                        bin_width = 0.5,\n",
    "                        scale = \"log\",\n",
    "                        bin_count_name = \"Transfection_Bin_Count\") \n",
    "\n",
    "ex_bin = bin_op.apply(ex_calib)\n",
    "flow.HistogramView(channel =  BlueChannel,\n",
    "                   huefacet = \"Transfection_Bin\",\n",
    "                   scale = \"log\").plot(ex_bin)"
   ]
  },
  {
   "cell_type": "code",
   "execution_count": null,
   "metadata": {},
   "outputs": [],
   "source": [
    "#DatatoLookAt= \"Transfected == True and Transfection_Bin_Count > 500\"\n",
    "DatatoLookAt = MorphoString+\" and ('8' in Abreviation or '9' in Abreviation)\"\n",
    "ex_stats = flow.ChannelStatisticOp(name = \"Output\",\n",
    "                                   channel = GreenChannel,\n",
    "                                   by = [\"Sample\",\"Transfection_Bin\"],\n",
    "                                   function = flow.geom_mean,\n",
    "                                   subset = DatatoLookAt).apply(ex_bin)\n",
    "\n",
    "ex_stats = flow.ChannelStatisticOp(name = \"Output\",\n",
    "                                  channel = GreenChannel,\n",
    "                                  by = [\"Sample\",\"Transfection_Bin\"],\n",
    "                                  function = lambda x: np.std(x) / np.sqrt(len(x)),\n",
    "                                  statistic_name = \"Replicate SEM\",\n",
    "                                  subset = DatatoLookAt).apply(ex_stats)"
   ]
  },
  {
   "cell_type": "code",
   "execution_count": null,
   "metadata": {},
   "outputs": [],
   "source": [
    "np.unique(ex_stats.data['Abreviation'])"
   ]
  },
  {
   "cell_type": "code",
   "execution_count": null,
   "metadata": {},
   "outputs": [],
   "source": [
    "test = flow.Stats1DView(statistic = (\"Output\", \"geom_mean\"),\n",
    "                 variable = \"Transfection_Bin\",\n",
    "                 huefacet = \"Sample\",\n",
    "                 xscale = \"log\",\n",
    "                 #yscale = \"log\",\n",
    "                 error_statistic = (\"Output\",\"Replicate SEM\")).plot(ex_stats)\n",
    "plt.xlim((1,100000));\n",
    "plt.ylim((1,100000));\n",
    "plt.yscale('log')\n",
    "h = plt.gcf()\n",
    "h.savefig('output vs geom_mean')"
   ]
  },
  {
   "cell_type": "code",
   "execution_count": null,
   "metadata": {},
   "outputs": [],
   "source": [
    "DataToLookAt = MorphoString + \" and '12' in Abreviation\"\n",
    "\n",
    "flow.ScatterplotView(xchannel = RedChannel,\n",
    "                     ychannel = GreenChannel,\n",
    "                     #yscale = \"log\",\n",
    "                     subset = DataToLookAt).plot(ex_calib, alpha = 0.5)\n",
    "plt.xscale('log')\n",
    "plt.yscale('log')\n",
    "plt.xlim((1,300000));  \n",
    "plt.ylim((1,300000));"
   ]
  },
  {
   "cell_type": "code",
   "execution_count": null,
   "metadata": {},
   "outputs": [],
   "source": [
    "flow.ScatterplotView(xchannel = RedChannel,\n",
    "                     ychannel = BlueChannel,\n",
    "                     #yscale = \"log\",\n",
    "                     subset = DataToLookAt).plot(ex_calib, alpha = 0.5)\n",
    "plt.xscale('log')\n",
    "plt.yscale('log')\n",
    "plt.xlim((1,300000));  \n",
    "plt.ylim((1,300000)); "
   ]
  },
  {
   "cell_type": "code",
   "execution_count": null,
   "metadata": {},
   "outputs": [],
   "source": [
    "flow.ScatterplotView(xchannel = RedChannel,\n",
    "                     ychannel = iRedChannel,\n",
    "                     #yscale = \"log\",\n",
    "                     subset = DataToLookAt).plot(ex_calib, alpha = 0.5)\n",
    "plt.xscale('log')\n",
    "plt.yscale('log')\n",
    "plt.xlim((1,300000));  \n",
    "plt.ylim((1,300000)); "
   ]
  },
  {
   "cell_type": "code",
   "execution_count": null,
   "metadata": {},
   "outputs": [],
   "source": [
    "plt.figure(figsize=(10,10))\n",
    "gMeanStatsData = ex_stats.statistics[(\"Output\", 'geom_mean')]\n",
    "gErrStatsData = ex_stats.statistics[(\"Output\", 'Replicate SEM')]"
   ]
  },
  {
   "cell_type": "code",
   "execution_count": null,
   "metadata": {},
   "outputs": [],
   "source": [
    "gMeanStatsData"
   ]
  },
  {
   "cell_type": "code",
   "execution_count": null,
   "metadata": {},
   "outputs": [],
   "source": [
    "PosName = 'PRMPv10-Pos-1'\n",
    "PlusName = '1xPRMPv10-100P-1'\n",
    "MinusName = '1xPRMPv10-0P-1'\n",
    "\n",
    "plt.figure(figsize=(8,6))\n",
    "BinValue = 3162.0000 \n",
    "gMeanStatsData = ex_stats.statistics[(\"Output\", 'geom_mean')]\n",
    "gErrStatsData = ex_stats.statistics[(\"Output\", 'Replicate SEM')]\n",
    "means = [gMeanStatsData[PosName][BinValue],\n",
    "         gMeanStatsData[PlusName][BinValue],\n",
    "         gMeanStatsData[MinusName][BinValue]]\n",
    "errs  = [gErrStatsData[PosName][BinValue],\n",
    "         gErrStatsData[PlusName][BinValue],\n",
    "         gErrStatsData[MinusName][BinValue]]\n",
    "\n",
    "font = {'family' : 'normal',\n",
    "        'weight' : 'bold',\n",
    "        'size'   : 1}\n",
    "\n",
    "plt.rc('font', **font)\n",
    "bar_width = 0.5\n",
    "plt.bar(np.arange(3)+1, means, \n",
    "                 bar_width,\n",
    "                 log = True,\n",
    "                 yerr=errs,\n",
    "                 tick_label = ['Positive','PlusPh','NoPh'],\n",
    "                 error_kw=dict(lw=5, capsize=5, capthick=3))\n",
    "plt.tick_params(labelsize=18)\n",
    "plt.ylim([1,100000])\n",
    "plt.xlim([0,4])\n",
    "plt.ylabel('Output In A.U.',fontsize=50,fontweight='bold')\n",
    "print('Plus Minus Ph Fold Change',gMeanStatsData[PlusName][BinValue]/gMeanStatsData[MinusName][BinValue])\n",
    "print('Pos Minus Ph Fold Change',gMeanStatsData[PosName][BinValue]/gMeanStatsData[MinusName][BinValue])"
   ]
  }
 ],
 "metadata": {
  "kernelspec": {
   "display_name": "Python 3",
   "language": "python",
   "name": "python3"
  },
  "language_info": {
   "codemirror_mode": {
    "name": "ipython",
    "version": 3
   },
   "file_extension": ".py",
   "mimetype": "text/x-python",
   "name": "python",
   "nbconvert_exporter": "python",
   "pygments_lexer": "ipython3",
   "version": "3.6.7"
  }
 },
 "nbformat": 4,
 "nbformat_minor": 2
}
