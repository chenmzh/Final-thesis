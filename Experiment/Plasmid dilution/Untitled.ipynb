{
 "cells": [
  {
   "cell_type": "code",
   "execution_count": 164,
   "metadata": {},
   "outputs": [],
   "source": [
    "# helpful code\n",
    "import pandas as pd\n",
    "ratioTot = []\n",
    "for i in range(1,22):\n",
    "    file = f\"{i}.csv\"\n",
    "    data = pd.read_csv('C:/Git-project/Project-Strutualize-demo/Projects/Asymmetric cell division/Experiment/'+file)\n",
    "\n",
    "    data = data.rename( columns = {\"Pacific Blue-A\" : \"Blue\"})\n",
    "\n",
    "    #data = data.rename( columns = {\"FITC-A\" : \"Green\"})\n",
    "\n",
    "    #data2lookat = data.query(\"Green>= 1000\")\n",
    "    data2lookat = data.query(\"Blue>= 1000\")\n",
    "    overthreshold = data2lookat.count()[0]\n",
    "    #data2lookat2 = data.query(\"Green < 1000\")\n",
    "    data2lookat2 = data.query(\"Blue < 1000\")\n",
    "    underthreshold = data2lookat2.count()[0]\n",
    "    ratio = overthreshold/(underthreshold+overthreshold)\n",
    "    ratioTot.append(ratio)\n",
    "    "
   ]
  },
  {
   "cell_type": "code",
   "execution_count": 165,
   "metadata": {},
   "outputs": [
    {
     "data": {
      "text/plain": [
       "[0.0,\n",
       " 0.0010268697586856067,\n",
       " 0.17181760486181896,\n",
       " 0.05417008614288665,\n",
       " 0.01907560222328028,\n",
       " 0.009615030731294395,\n",
       " 0.0,\n",
       " 6.9579254249552954e-06,\n",
       " 0.00016945748499987446,\n",
       " 0.0006751054852320675,\n",
       " 0.0010172354228244597,\n",
       " 0.0,\n",
       " 0.24574575540586618,\n",
       " 0.38570257206973935,\n",
       " 0.25249525027365305,\n",
       " 0.167482202476638,\n",
       " 0.0,\n",
       " 5.525228191924327e-06,\n",
       " 5.931549913992526e-06,\n",
       " 0.0,\n",
       " 0.0]"
      ]
     },
     "execution_count": 165,
     "metadata": {},
     "output_type": "execute_result"
    }
   ],
   "source": [
    "ratioTot"
   ]
  },
  {
   "cell_type": "code",
   "execution_count": 166,
   "metadata": {},
   "outputs": [],
   "source": [
    "t=pd.Series(ratioTot)"
   ]
  },
  {
   "cell_type": "code",
   "execution_count": 167,
   "metadata": {},
   "outputs": [
    {
     "data": {
      "text/plain": [
       "0     0.000000\n",
       "1     0.001027\n",
       "2     0.171818\n",
       "3     0.054170\n",
       "4     0.019076\n",
       "5     0.009615\n",
       "6     0.000000\n",
       "7     0.000007\n",
       "8     0.000169\n",
       "9     0.000675\n",
       "10    0.001017\n",
       "11    0.000000\n",
       "12    0.245746\n",
       "13    0.385703\n",
       "14    0.252495\n",
       "15    0.167482\n",
       "16    0.000000\n",
       "17    0.000006\n",
       "18    0.000006\n",
       "19    0.000000\n",
       "20    0.000000\n",
       "dtype: float64"
      ]
     },
     "execution_count": 167,
     "metadata": {},
     "output_type": "execute_result"
    }
   ],
   "source": [
    "t"
   ]
  },
  {
   "cell_type": "code",
   "execution_count": 168,
   "metadata": {},
   "outputs": [],
   "source": [
    "df = pd.DataFrame(t)"
   ]
  },
  {
   "cell_type": "code",
   "execution_count": 169,
   "metadata": {},
   "outputs": [],
   "source": [
    "#df.to_csv(\"Greenratio.csv\")\n",
    "df.to_csv(\"Blueratio.csv\")"
   ]
  },
  {
   "cell_type": "code",
   "execution_count": null,
   "metadata": {},
   "outputs": [],
   "source": []
  }
 ],
 "metadata": {
  "kernelspec": {
   "display_name": "Python 3",
   "language": "python",
   "name": "python3"
  },
  "language_info": {
   "codemirror_mode": {
    "name": "ipython",
    "version": 3
   },
   "file_extension": ".py",
   "mimetype": "text/x-python",
   "name": "python",
   "nbconvert_exporter": "python",
   "pygments_lexer": "ipython3",
   "version": "3.6.7"
  }
 },
 "nbformat": 4,
 "nbformat_minor": 2
}
